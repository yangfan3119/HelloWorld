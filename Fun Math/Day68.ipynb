{
 "cells": [
  {
   "cell_type": "code",
   "execution_count": 1,
   "metadata": {},
   "outputs": [
    {
     "name": "stdout",
     "output_type": "stream",
     "text": [
      "0.43243243243243246 0.0 2014\n"
     ]
    }
   ],
   "source": [
    "Cx = 16/37\n",
    "\n",
    "def GetSomeParam(m,n,multiple):\n",
    "    return (Cx-m/n), (m+n)*multiple\n",
    "\n",
    "Delta, sums = GetSomeParam(16,37,38) \n",
    "print(Cx,Delta, sums)"
   ]
  },
  {
   "cell_type": "code",
   "execution_count": 2,
   "metadata": {},
   "outputs": [
    {
     "name": "stdout",
     "output_type": "stream",
     "text": [
      "608 1408 2016 0.4318181818181818\n"
     ]
    }
   ],
   "source": [
    "a = 16*38\n",
    "b = 37*38+2\n",
    "print(a,b,a+b,a/b)"
   ]
  },
  {
   "cell_type": "code",
   "execution_count": 3,
   "metadata": {},
   "outputs": [
    {
     "name": "stdout",
     "output_type": "stream",
     "text": [
      "608 1407 2015 0.43212508884150674\n"
     ]
    }
   ],
   "source": [
    "a = 16*38\n",
    "b = 37*38+1\n",
    "print(a,b,a+b,a/b)"
   ]
  },
  {
   "cell_type": "code",
   "execution_count": 25,
   "metadata": {},
   "outputs": [
    {
     "name": "stdout",
     "output_type": "stream",
     "text": [
      "0.4324127906976744\n",
      "1971\n",
      "0.00030734359092571273\n"
     ]
    }
   ],
   "source": [
    "#正解\n",
    "print(595/1376)\n",
    "print(595+1376)\n",
    "print(Cx - 608/1407)"
   ]
  },
  {
   "cell_type": "code",
   "execution_count": 23,
   "metadata": {},
   "outputs": [],
   "source": [
    "class Day68(object):\n",
    "    def __init__(self):\n",
    "        self.m = 16\n",
    "        self.n = 37\n",
    "        self.D_mn = self.m/self.n\n",
    "        self.min = 1\n",
    "        self.SumMax = 2016\n",
    "        self.Res = [[]]\n",
    "    \n",
    "    def Run(self):\n",
    "        nm = self.n/self.m\n",
    "        for mi in range(1,self.SumMax):\n",
    "            begin_n = int(mi*nm)\n",
    "            if(begin_n > self.SumMax):\n",
    "                continue\n",
    "            for ni in range(begin_n,self.SumMax):\n",
    "                if mi + ni > self.SumMax:\n",
    "                    break\n",
    "                else:\n",
    "                    t = self.D_mn - mi/ni\n",
    "                    if t <= self.min and t > 0:\n",
    "                        self.min = t\n",
    "                        self.Res[0] = [mi,ni]\n",
    "        print(self.Res[0])"
   ]
  },
  {
   "cell_type": "code",
   "execution_count": 24,
   "metadata": {},
   "outputs": [
    {
     "name": "stdout",
     "output_type": "stream",
     "text": [
      "[595, 1376]\n",
      "0.0000196\n"
     ]
    }
   ],
   "source": [
    "dx = Day68()\n",
    "dx.Run()\n",
    "print('%.7f'%dx.min)"
   ]
  },
  {
   "cell_type": "code",
   "execution_count": null,
   "metadata": {
    "collapsed": true
   },
   "outputs": [],
   "source": []
  }
 ],
 "metadata": {
  "kernelspec": {
   "display_name": "Python 3",
   "language": "python",
   "name": "python3"
  },
  "language_info": {
   "codemirror_mode": {
    "name": "ipython",
    "version": 3
   },
   "file_extension": ".py",
   "mimetype": "text/x-python",
   "name": "python",
   "nbconvert_exporter": "python",
   "pygments_lexer": "ipython3",
   "version": "3.6.2"
  }
 },
 "nbformat": 4,
 "nbformat_minor": 2
}
