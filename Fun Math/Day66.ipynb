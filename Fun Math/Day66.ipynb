{
 "cells": [
  {
   "cell_type": "code",
   "execution_count": 1,
   "metadata": {
    "collapsed": true
   },
   "outputs": [],
   "source": [
    "from enum import Enum as em\n",
    "\n",
    "class Shoe(em):\n",
    "    LeftShoe = 0\n",
    "    RightShoe = 1\n",
    "\n",
    "class Day66(object):\n",
    "\n",
    "    def __init__(self):\n",
    "        self.sum = 30\n",
    "        self.oneTypeNum = 15\n",
    "        self.twoTypeNum = 15\n",
    "        self.one = Shoe.LeftShoe.value\n",
    "        self.two = Shoe.RightShoe.value\n",
    "        self.Judgenum = 10\n",
    "        self.TrueNum = 0\n",
    "        self.FalseNum = 0\n",
    "        self.Lx = []\n",
    "        self.Nx = 0\n",
    "    \n",
    "    def JudgeList(self,L):\n",
    "        n1 = 0\n",
    "        n2 = 0\n",
    "        for x in L:\n",
    "            if x==self.one:\n",
    "                n1+=1\n",
    "            elif x==self.two:\n",
    "                n2+=1\n",
    "        if n1==n2 and n1 == self.Judgenum/2:\n",
    "            return True\n",
    "        return False\n",
    "    \n",
    "    def ForAllJudge(self,Lx):\n",
    "        for i in range(len(Lx)-self.Judgenum+1):\n",
    "            Lnew = Lx[i:i+self.Judgenum]\n",
    "            #print('ForAll func datas:',Lnew)\n",
    "            if self.JudgeList(Lnew):\n",
    "                return True\n",
    "        return False\n",
    "    \n",
    "    def GetOneTypeNum(self,L,Ty):\n",
    "        n = 0\n",
    "        for x in L:\n",
    "            if(x==Ty):\n",
    "                n += 1\n",
    "        return n\n",
    "        \n",
    "    def NF(self,n):\n",
    "        return format(n,'e')\n",
    "        \n",
    "    def CreateShoeList(self,L,N):\n",
    "        if len(L) == self.sum:\n",
    "            self.Nx += 1\n",
    "            if not  self.ForAllJudge(L):\n",
    "                print(L,self.ForAllJudge(L))\n",
    "                self.FalseNum += 1\n",
    "            else:\n",
    "                self.TrueNum += 1\n",
    "                \n",
    "            if self.Nx%1000000 == 0:\n",
    "                print(self.NF(self.Nx),self.NF(self.TrueNum),self.NF(self.FalseNum))\n",
    "        #添加one\n",
    "        if self.GetOneTypeNum(L,self.one) < self.oneTypeNum:\n",
    "            L.append(self.one)\n",
    "            N += 1\n",
    "            self.CreateShoeList(L,N)\n",
    "            N -= 1\n",
    "            L = L[:N]\n",
    "            \n",
    "        #添加two\n",
    "        if self.GetOneTypeNum(L,self.two) < self.twoTypeNum:\n",
    "            L.append(self.two)\n",
    "            N += 1\n",
    "            self.CreateShoeList(L,N)\n",
    "            N -= 1\n",
    "            L = L[:N]\n",
    "            \n",
    "    \n",
    "    def Run(self):\n",
    "        self.CreateShoeList([],0)\n",
    "        \n",
    "    def func1(self,L):\n",
    "        if(len(L)<10):\n",
    "            if  len(L)>0:\n",
    "                print(L)\n",
    "        else:\n",
    "            return\n",
    "        L.append(len(L)+1)\n",
    "        self.func1(L)\n",
    "\n",
    "def CShoeList(Dx,N,L,strLx):\n",
    "    if Dx.GetOneTypeNum(L,Dx.one) == Dx.oneTypeNum and Dx.GetOneTypeNum(L,Dx.two) == Dx.twoTypeNum:\n",
    "        pass\n",
    "    else:\n",
    "        if -1 not in L:\n",
    "            print(L,Dx.ForAllJudge(L))\n",
    "    #添加one\n",
    "    if Dx.GetOneTypeNum(L,Dx.one) < Dx.oneTypeNum:\n",
    "        L[N] = Dx.one\n",
    "        strLx.append('L1')\n",
    "        CShoeList(Dx,N+1,L,strLx)\n",
    "        L[N] = -1\n",
    "\n",
    "    #添加two\n",
    "    if Dx.GetOneTypeNum(L,Dx.two) < Dx.twoTypeNum:\n",
    "        L[N] = Dx.two\n",
    "        strLx.append('L2')\n",
    "        CShoeList(Dx,N+1,L,strLx)\n",
    "        L[N] = -1"
   ]
  },
  {
   "cell_type": "code",
   "execution_count": 2,
   "metadata": {},
   "outputs": [
    {
     "name": "stdout",
     "output_type": "stream",
     "text": [
      "共计组合为：155117520\n"
     ]
    }
   ],
   "source": [
    "dx = Day66()\n",
    "#dx.Run()\n",
    "print('共计组合为：155117520',)"
   ]
  },
  {
   "cell_type": "code",
   "execution_count": 3,
   "metadata": {},
   "outputs": [
    {
     "name": "stdout",
     "output_type": "stream",
     "text": [
      "[-1, -1, -1, -1, -1, -1, -1, -1, -1, -1, -1, -1, -1, -1, -1, -1, -1, -1, -1, -1, -1, -1, -1, -1, -1, -1, -1, -1, -1, -1]\n"
     ]
    }
   ],
   "source": [
    "dx  = Day66()\n",
    "LF = [-1 for i in range(dx.sum)]\n",
    "#CShoeList(dx,0,LF,[])\n",
    "print(LF)"
   ]
  },
  {
   "cell_type": "code",
   "execution_count": 4,
   "metadata": {},
   "outputs": [
    {
     "name": "stdout",
     "output_type": "stream",
     "text": [
      "[1, 2, 3, 4, 5]\n",
      "0\n"
     ]
    }
   ],
   "source": [
    "L = [1,2,3,4,5,6]\n",
    "print(L[:-1])\n",
    "L = L[:0]\n",
    "print(len(L))"
   ]
  },
  {
   "cell_type": "code",
   "execution_count": 5,
   "metadata": {},
   "outputs": [],
   "source": [
    "class Day66_Extend(Day66):\n",
    "    \n",
    "    def SetInit(self,TypeNum,JudgeNum):\n",
    "        self.sum = TypeNum*2\n",
    "        self.oneTypeNum = TypeNum\n",
    "        self.twoTypeNum = TypeNum\n",
    "        self.Judgenum = JudgeNum*2\n",
    "    "
   ]
  },
  {
   "cell_type": "code",
   "execution_count": 12,
   "metadata": {},
   "outputs": [
    {
     "name": "stdout",
     "output_type": "stream",
     "text": [
      "All: 252 \tTrue: 252 \tFalse: 0\n"
     ]
    }
   ],
   "source": [
    "Ex = Day66_Extend()\n",
    "Ex.SetInit(5,2)\n",
    "Ex.Run()\n",
    "print('All:',Ex.Nx,'\\tTrue:',Ex.TrueNum,'\\tFalse:',Ex.FalseNum)"
   ]
  },
  {
   "cell_type": "code",
   "execution_count": 7,
   "metadata": {},
   "outputs": [
    {
     "name": "stdout",
     "output_type": "stream",
     "text": [
      "True\n"
     ]
    }
   ],
   "source": [
    "Lx = [0, 0, 0, 1, 1, 1, 1, 1, 0, 0, 0, 1, 1, 1, 1, 1, 0, 0, 0, 0]\n",
    "print(Ex.ForAllJudge(Lx))"
   ]
  },
  {
   "cell_type": "code",
   "execution_count": 9,
   "metadata": {},
   "outputs": [
    {
     "data": {
      "text/plain": [
       "[1, 1, 1, 1, 1, 0, 0, 0]"
      ]
     },
     "execution_count": 9,
     "metadata": {},
     "output_type": "execute_result"
    }
   ],
   "source": [
    "Lx[11:11+8]"
   ]
  },
  {
   "cell_type": "code",
   "execution_count": null,
   "metadata": {
    "collapsed": true
   },
   "outputs": [],
   "source": []
  }
 ],
 "metadata": {
  "kernelspec": {
   "display_name": "Python 3",
   "language": "python",
   "name": "python3"
  },
  "language_info": {
   "codemirror_mode": {
    "name": "ipython",
    "version": 3
   },
   "file_extension": ".py",
   "mimetype": "text/x-python",
   "name": "python",
   "nbconvert_exporter": "python",
   "pygments_lexer": "ipython3",
   "version": "3.5.2"
  }
 },
 "nbformat": 4,
 "nbformat_minor": 2
}
