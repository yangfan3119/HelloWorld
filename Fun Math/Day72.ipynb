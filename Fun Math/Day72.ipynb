{
 "cells": [
  {
   "cell_type": "code",
   "execution_count": 38,
   "metadata": {
    "collapsed": true
   },
   "outputs": [],
   "source": [
    "LimitNum = [2,3,5,7]\n",
    "\n",
    "class Day72(object):\n",
    "    def __init__(self):\n",
    "        self.AnumDegree = 3\n",
    "        self.BnumDegree = 2\n",
    "    \n",
    "    def CreateDegreeAddNum(self,x,n):\n",
    "        num = 0\n",
    "        for d in range(n):\n",
    "            num += pow(10,d)*x\n",
    "        return num\n",
    "    \n",
    "    def GetNumFromLimitList(self,x):\n",
    "        xstr = str(x)\n",
    "        Num = 0\n",
    "        for c in xstr:\n",
    "            ic = int(c)-1\n",
    "            if ic >= len(LimitNum) or ic < 0:\n",
    "                return 0\n",
    "            Num *= 10\n",
    "            Num += LimitNum[ic]\n",
    "\n",
    "        return Num\n",
    "    \n",
    "    def GetANum(self):\n",
    "        LA = []\n",
    "        Amin = self.CreateDegreeAddNum(1,self.AnumDegree)\n",
    "        Amax = self.CreateDegreeAddNum(len(LimitNum),self.AnumDegree)\n",
    "        for x in range(Amin,Amax+1):\n",
    "            tx = self.GetNumFromLimitList(x)\n",
    "            if tx != 0:\n",
    "                LA.append(tx)\n",
    "        return LA\n",
    "    \n",
    "    def GetBNum(self):\n",
    "        LB = []\n",
    "        Bmin = self.CreateDegreeAddNum(1,self.BnumDegree)\n",
    "        Bmax = self.CreateDegreeAddNum(len(LimitNum),self.BnumDegree)\n",
    "        for x in range(Bmin,Bmax+1):\n",
    "            tx = self.GetNumFromLimitList(x)\n",
    "            if tx != 0:\n",
    "                LB.append(tx)\n",
    "        return LB\n",
    "    \n",
    "    def JudgeNum(self,x,n):\n",
    "        xstr = str(x)\n",
    "        if len(xstr) != n:\n",
    "            return False\n",
    "        for c in xstr:\n",
    "            if int(c) not in LimitNum:\n",
    "                return False\n",
    "        return True\n",
    "    \n",
    "    def Run(self):\n",
    "        LA = self.GetANum()\n",
    "        LB = self.GetBNum()\n",
    "        for A in LA:\n",
    "            for B in LB:\n",
    "                #个位数和A的积为4位数\n",
    "                B1 = B%10\n",
    "                AB1 = A*B1\n",
    "                if not self.JudgeNum(AB1,4):\n",
    "                    continue\n",
    "                #十位数和A的积为4位数\n",
    "                B2 = B//10\n",
    "                AB2 = A*B2\n",
    "                if not self.JudgeNum(AB2,4):\n",
    "                    continue\n",
    "                #两数只积为5位数\n",
    "                AB = A*B\n",
    "                if self.JudgeNum(AB,5):\n",
    "                    print('%d * %d = %d'%(A,B,AB))\n",
    "    "
   ]
  },
  {
   "cell_type": "code",
   "execution_count": 39,
   "metadata": {},
   "outputs": [
    {
     "name": "stdout",
     "output_type": "stream",
     "text": [
      "775 * 33 = 25575\n"
     ]
    }
   ],
   "source": [
    "dx = Day72()\n",
    "dx.Run()"
   ]
  },
  {
   "cell_type": "code",
   "execution_count": 40,
   "metadata": {},
   "outputs": [
    {
     "name": "stdout",
     "output_type": "stream",
     "text": [
      "[222, 223, 225, 227, 232, 233, 235, 237, 252, 253, 255, 257, 272, 273, 275, 277, 322, 323, 325, 327, 332, 333, 335, 337, 352, 353, 355, 357, 372, 373, 375, 377, 522, 523, 525, 527, 532, 533, 535, 537, 552, 553, 555, 557, 572, 573, 575, 577, 722, 723, 725, 727, 732, 733, 735, 737, 752, 753, 755, 757, 772, 773, 775, 777]\n"
     ]
    }
   ],
   "source": [
    "print(dx.GetANum())"
   ]
  },
  {
   "cell_type": "code",
   "execution_count": 41,
   "metadata": {},
   "outputs": [
    {
     "name": "stdout",
     "output_type": "stream",
     "text": [
      "[22, 23, 25, 27, 32, 33, 35, 37, 52, 53, 55, 57, 72, 73, 75, 77]\n"
     ]
    }
   ],
   "source": [
    "print(dx.GetBNum())"
   ]
  },
  {
   "cell_type": "code",
   "execution_count": null,
   "metadata": {
    "collapsed": true
   },
   "outputs": [],
   "source": []
  }
 ],
 "metadata": {
  "kernelspec": {
   "display_name": "Python 3",
   "language": "python",
   "name": "python3"
  },
  "language_info": {
   "codemirror_mode": {
    "name": "ipython",
    "version": 3
   },
   "file_extension": ".py",
   "mimetype": "text/x-python",
   "name": "python",
   "nbconvert_exporter": "python",
   "pygments_lexer": "ipython3",
   "version": "3.6.2"
  }
 },
 "nbformat": 4,
 "nbformat_minor": 2
}
