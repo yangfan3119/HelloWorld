{
 "cells": [
  {
   "cell_type": "code",
   "execution_count": 8,
   "metadata": {},
   "outputs": [],
   "source": [
    "def CalAlignment(n):\n",
    "    a = [1,1]\n",
    "    if n <= 0:\n",
    "        print(n,' is an Error param!')\n",
    "        return\n",
    "    print('1阶：',a)\n",
    "    if n > 1:\n",
    "        for i in range(2, n):\n",
    "            a1 = a[0]\n",
    "            a[0] = a[0]+a[1]\n",
    "            a[1] = a1\n",
    "            print('%d阶：'%(i), a)"
   ]
  },
  {
   "cell_type": "code",
   "execution_count": 11,
   "metadata": {},
   "outputs": [
    {
     "name": "stdout",
     "output_type": "stream",
     "text": [
      "1阶： [1, 1]\n",
      "2阶： [2, 1]\n",
      "3阶： [3, 2]\n",
      "4阶： [5, 3]\n",
      "5阶： [8, 5]\n",
      "6阶： [13, 8]\n",
      "7阶： [21, 13]\n",
      "8阶： [34, 21]\n",
      "9阶： [55, 34]\n",
      "10阶： [89, 55]\n",
      "11阶： [144, 89]\n",
      "12阶： [233, 144]\n",
      "13阶： [377, 233]\n"
     ]
    }
   ],
   "source": [
    "CalAlignment(14)"
   ]
  },
  {
   "cell_type": "code",
   "execution_count": 14,
   "metadata": {
    "collapsed": true
   },
   "outputs": [],
   "source": [
    "def CalNDegree(k):\n",
    "    a = [1,1]\n",
    "    n = 1000\n",
    "    for i in range(2, n):\n",
    "        a1 = a[0]\n",
    "        a[0] = a[0]+a[1]\n",
    "        a[1] = a1\n",
    "        if a[0]%k == 0:\n",
    "            print('%d阶：'%(i), a)\n",
    "            return i,a"
   ]
  },
  {
   "cell_type": "code",
   "execution_count": 19,
   "metadata": {},
   "outputs": [
    {
     "name": "stdout",
     "output_type": "stream",
     "text": [
      "5阶： [8, 5]\n",
      "F(n) = 8*F(n-5)+5*F(n-4)\n"
     ]
    }
   ],
   "source": [
    "i,a = CalNDegree(4)\n",
    "print('F(n) = %d*F(n-%d)+%d*F(n-%d)'%(a[0], i, a[1], i-1))"
   ]
  },
  {
   "cell_type": "code",
   "execution_count": null,
   "metadata": {
    "collapsed": true
   },
   "outputs": [],
   "source": []
  }
 ],
 "metadata": {
  "kernelspec": {
   "display_name": "Python 3",
   "language": "python",
   "name": "python3"
  },
  "language_info": {
   "codemirror_mode": {
    "name": "ipython",
    "version": 3
   },
   "file_extension": ".py",
   "mimetype": "text/x-python",
   "name": "python",
   "nbconvert_exporter": "python",
   "pygments_lexer": "ipython3",
   "version": "3.6.2"
  }
 },
 "nbformat": 4,
 "nbformat_minor": 2
}
