{
 "cells": [
  {
   "cell_type": "code",
   "execution_count": 9,
   "metadata": {
    "collapsed": true
   },
   "outputs": [],
   "source": [
    "# 螺旋矩阵的实现\n",
    "# 思路，倒三角填值，再左旋转90度即可\n",
    "# 例：阶数= 6\n",
    "#  1   2   3   4   5   6 \n",
    "# 20  21  22  23  24   7 \n",
    "# 19  32  33  34  25   8 \n",
    "# 18  31  36  35  26   9 \n",
    "# 17  30  29  28  27  10 \n",
    "# 16  15  14  13  12  11 \n",
    "import numpy as np"
   ]
  },
  {
   "cell_type": "code",
   "execution_count": 10,
   "metadata": {
    "collapsed": true
   },
   "outputs": [],
   "source": [
    "class FlipMatrix2D:\n",
    "\n",
    "    @staticmethod\n",
    "    def flip180(arr):\n",
    "        new_arr = arr.reshape(arr.size)\n",
    "        new_arr = new_arr[::-1]\n",
    "        new_arr = new_arr.reshape(arr.shape)\n",
    "        return new_arr\n",
    "\n",
    "    @staticmethod\n",
    "    def flip90_left(arr):\n",
    "        new_arr = np.transpose(arr)\n",
    "        new_arr = new_arr[::-1]\n",
    "        return new_arr\n",
    "\n",
    "    @staticmethod\n",
    "    def flip90_right(arr):\n",
    "        new_arr = arr.reshape(arr.size)\n",
    "        new_arr = new_arr[::-1]\n",
    "        new_arr = new_arr.reshape(arr.shape)\n",
    "        new_arr = np.transpose(new_arr)[::-1]\n",
    "        return new_arr"
   ]
  },
  {
   "cell_type": "code",
   "execution_count": 13,
   "metadata": {
    "collapsed": true
   },
   "outputs": [],
   "source": [
    "class spiralList:\n",
    "    def __init__(self, N):  # N为阶数\n",
    "        self.Degree = N\n",
    "        self.ResList = np.array(0)\n",
    "\n",
    "    def PrintList(self, lx):\n",
    "        for l in lx:\n",
    "            str = ''\n",
    "            for x in l:\n",
    "                str += (\"%3d \"%x)\n",
    "            print(str)\n",
    "        print('==============')\n",
    "\n",
    "    def WriteInNabla(self, tx):\n",
    "        start = (self.Degree-1)*(tx-1)\n",
    "        step_N = self.Degree-1\n",
    "        Dgx = 0\n",
    "        while step_N > 0:\n",
    "            for i in range(step_N):\n",
    "                # print(\"(%d,%d)=%d\"%(Dgx,Dgx+i,start+i+1))\n",
    "                self.ResList[Dgx][Dgx+i] = start + i + 1\n",
    "            Dgx += 1\n",
    "            start = step_N*(4-tx+1) + start + (step_N-2)*(tx-1)\n",
    "            step_N -= 2\n",
    "            # print(\"N= \", step_N)\n",
    "\n",
    "    def CalSprialList(self):\n",
    "        # 生成矩阵\n",
    "        self.ResList = np.zeros((self.Degree,self.Degree), dtype=int)\n",
    "        # self.PrintList(self.ResList)\n",
    "        for s in range(4):\n",
    "            # 写入倒三角\n",
    "            self.WriteInNabla(s+1)\n",
    "#             self.PrintList(self.ResList)\n",
    "            # 翻转90度\n",
    "            self.ResList = FlipMatrix2D.flip90_left(self.ResList)\n",
    "\n",
    "        # 如为奇数则中心位共用\n",
    "        if self.Degree % 2 == 1:\n",
    "            n = int(self.Degree/2)\n",
    "            self.ResList[n][n] = self.Degree*self.Degree\n",
    "\n",
    "        self.PrintList(self.ResList)"
   ]
  },
  {
   "cell_type": "code",
   "execution_count": 14,
   "metadata": {},
   "outputs": [
    {
     "name": "stdout",
     "output_type": "stream",
     "text": [
      "  1   2   3   4   5   6 \n",
      " 20  21  22  23  24   7 \n",
      " 19  32  33  34  25   8 \n",
      " 18  31  36  35  26   9 \n",
      " 17  30  29  28  27  10 \n",
      " 16  15  14  13  12  11 \n",
      "==============\n"
     ]
    }
   ],
   "source": [
    "if __name__==\"__main__\":\n",
    "    tx = spiralList(6)\n",
    "    tx.CalSprialList()"
   ]
  },
  {
   "cell_type": "code",
   "execution_count": null,
   "metadata": {
    "collapsed": true
   },
   "outputs": [],
   "source": []
  }
 ],
 "metadata": {
  "kernelspec": {
   "display_name": "Python 3",
   "language": "python",
   "name": "python3"
  },
  "language_info": {
   "codemirror_mode": {
    "name": "ipython",
    "version": 3
   },
   "file_extension": ".py",
   "mimetype": "text/x-python",
   "name": "python",
   "nbconvert_exporter": "python",
   "pygments_lexer": "ipython3",
   "version": "3.6.2"
  }
 },
 "nbformat": 4,
 "nbformat_minor": 2
}
