{
 "cells": [
  {
   "cell_type": "code",
   "execution_count": 1,
   "metadata": {
    "collapsed": true
   },
   "outputs": [],
   "source": [
    "'''\n",
    "题意：\n",
    "\n",
    " \t即求一个数，能使a，b与之相加后，成为素数，并且a与b之间没有其他的素数。\n",
    "\n",
    "做法：\n",
    "\n",
    " \t该题的关键是将20000000之前的素数打表，然后求其每个之间的差值，相等的存放到同一个数组中。\n",
    "\n",
    "关于枚举：\n",
    "\n",
    " \t如果手工都很容易算出来的东西，有理由相信写成程序以后也能很快得到结果。\n",
    "\n",
    "\t枚举算法在很多时候，无法立刻得出某个问题的可行解或者最优解，但是可以用一种比较“笨”的方法通过列举所有情况然后逐一判断来得到结果，这就是枚举算法的核心思想。\n",
    "\n",
    "\t枚举界法的特点是比较单纯，往往容易写出程序，也容易证明算法的正确性和分析算法的时间复杂度，可以解决一些规模很小的问題。\n",
    "\n",
    "\t它的缺点是速度慢，当枚举量很大的时候运行速度无法忍受。\n",
    "\n",
    "'''"
   ]
  },
  {
   "cell_type": "code",
   "execution_count": 4,
   "metadata": {},
   "outputs": [],
   "source": [
    "import math\n",
    "\n",
    "MAX_LEN = int(2e4)\n",
    "numList = [ 1 for _ in range(MAX_LEN+1)]\n",
    "primes = []\n",
    "sub_primes = {}     # sub:[prime1,prime2]\n",
    "\n",
    "def GetPrimes():\n",
    "    global numList, primes, sub_primes\n",
    "    numList[0] = numList[1] = 0\n",
    "    for i in range(2, int(math.sqrt(MAX_LEN)+1)):\n",
    "        if numList[i] == 1:\n",
    "            numList = [ 0 if index>i and index%i==0 else v for index,v in enumerate(numList) ]\n",
    "    primes = [index for index,x in enumerate(numList) if x == 1]\n",
    "    for index,v in enumerate(primes[:-1]):\n",
    "        sub = primes[index+1]-v\n",
    "        if sub not in sub_primes:\n",
    "            sub_primes[sub] = [v,primes[index+1]]\n",
    "\n",
    "    list_dick = {}\n",
    "    for i in range(200):\n",
    "        if i in sub_primes.keys():\n",
    "            print(i, sub_primes[i])\n",
    "            # list_dick[i] = sub_primes[i]\n",
    "\n",
    "    # print(len(primes), primes)\n",
    "    # print(len(list_dick), list_dick)"
   ]
  },
  {
   "cell_type": "code",
   "execution_count": 5,
   "metadata": {},
   "outputs": [
    {
     "name": "stdout",
     "output_type": "stream",
     "text": [
      "1 [2, 3]\n",
      "2 [3, 5]\n",
      "4 [7, 11]\n",
      "6 [23, 29]\n",
      "8 [89, 97]\n",
      "10 [139, 149]\n",
      "12 [199, 211]\n",
      "14 [113, 127]\n",
      "16 [1831, 1847]\n",
      "18 [523, 541]\n",
      "20 [887, 907]\n",
      "22 [1129, 1151]\n",
      "24 [1669, 1693]\n",
      "26 [2477, 2503]\n",
      "28 [2971, 2999]\n",
      "30 [4297, 4327]\n",
      "32 [5591, 5623]\n",
      "34 [1327, 1361]\n",
      "36 [9551, 9587]\n",
      "40 [19333, 19373]\n",
      "42 [16141, 16183]\n",
      "44 [15683, 15727]\n",
      "52 [19609, 19661]\n"
     ]
    }
   ],
   "source": [
    "GetPrimes()\n",
    "# 计算时间简直是太长了，太TMD长了"
   ]
  },
  {
   "cell_type": "code",
   "execution_count": null,
   "metadata": {
    "collapsed": true
   },
   "outputs": [],
   "source": [
    "import math\n",
    "import time\n",
    "\n",
    "\n",
    "MAX_LEN = int(2e8)\n",
    "numList = [ 1 for _ in range(MAX_LEN+1)]\n",
    "primes = []\n",
    "sub_primes = {}     # sub:[prime1,prime2]\n",
    "\n",
    "def GetPrimes():\n",
    "    global numList, primes, sub_primes\n",
    "    numList[0] = numList[1] = 0\n",
    "\n",
    "    print(time.localtime(time.time()))\n",
    "    for i in range(2, int(math.sqrt(MAX_LEN)+1)):\n",
    "        if numList[i] == 1:\n",
    "            index = i+i\n",
    "            while True:\n",
    "                if index <= MAX_LEN:\n",
    "                    numList[index] = 0\n",
    "                    index += i\n",
    "                else:\n",
    "                    break\n",
    "\n",
    "    print(time.localtime(time.time()))\n",
    "    primes = [index for index,x in enumerate(numList) if x == 1]\n",
    "\n",
    "    print(time.localtime(time.time()))\n",
    "    for index,v in enumerate(primes[:-1]):\n",
    "        sub = primes[index+1]-v\n",
    "        if sub not in sub_primes:\n",
    "            sub_primes[sub] = [v,primes[index+1]]\n",
    "\n",
    "    list_dick = {}\n",
    "    for i in range(200):\n",
    "        if i in sub_primes.keys():\n",
    "            print(i, sub_primes[i])\n",
    "            # list_dick[i] = sub_primes[i]\n",
    "\n",
    "    # print(len(primes), primes)\n",
    "    # print(len(list_dick), list_dick)\n",
    "\n",
    "\n",
    "\n",
    "\n",
    "\n",
    "\n",
    "if __name__==\"__main__\":\n",
    "    GetPrimes()"
   ]
  }
 ],
 "metadata": {
  "kernelspec": {
   "display_name": "Python 3",
   "language": "python",
   "name": "python3"
  },
  "language_info": {
   "codemirror_mode": {
    "name": "ipython",
    "version": 3
   },
   "file_extension": ".py",
   "mimetype": "text/x-python",
   "name": "python",
   "nbconvert_exporter": "python",
   "pygments_lexer": "ipython3",
   "version": "3.6.2"
  }
 },
 "nbformat": 4,
 "nbformat_minor": 2
}
