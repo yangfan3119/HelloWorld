{
 "cells": [
  {
   "cell_type": "code",
   "execution_count": 1,
   "metadata": {
    "collapsed": true
   },
   "outputs": [],
   "source": [
    "#计算1到10的9次方的所有整数的数字之和为多少？"
   ]
  },
  {
   "cell_type": "code",
   "execution_count": 1,
<<<<<<< HEAD
   "metadata": {},
=======
   "metadata": {
    "collapsed": true
   },
>>>>>>> master
   "outputs": [],
   "source": [
    "class Day69(object):\n",
    "    \n",
    "    def __init__(self,ThrL=1):\n",
    "        self.Max = pow(10,9)\n",
    "        self.Begin = 1\n",
    "        self.Res = 0\n",
    "        self.ThreadLine = ThrL\n",
    "    \n",
    "    def SumOfOneNum(self,N):\n",
    "        n = 0\n",
    "        while(N!=0):\n",
    "            n += N%10\n",
    "            N = N//10\n",
    "        return n\n",
    "    \n",
    "    #过于耗时\n",
    "    def Run(self,BreakT):\n",
    "        for n in range(self.Begin,self.Max+1):\n",
    "            self.Res += self.SumOfOneNum(n)\n",
    "            if n%pow(10,6)==0:\n",
    "                print(self.Res)\n",
    "                BreakT -= 1\n",
    "            if BreakT==0:\n",
    "                break\n",
    "        return self.Res\n",
    "    \n",
    "    def GetListForRange(self,x):\n",
    "        L = [x for x in range(self.Begin,self.Max+1) if x%self.ThreadLine==x]\n",
    "        return L            "
   ]
  },
  {
   "cell_type": "code",
   "execution_count": 2,
   "metadata": {},
   "outputs": [
    {
     "name": "stdout",
     "output_type": "stream",
     "text": [
      "1000000000 1\n"
     ]
    }
   ],
   "source": [
    "dx = Day69()\n",
    "print(dx.Max,dx.Begin)"
   ]
  },
  {
   "cell_type": "code",
   "execution_count": 23,
   "metadata": {},
   "outputs": [
    {
     "name": "stdout",
     "output_type": "stream",
     "text": [
      "27000001\n",
      "55000002\n",
      "84000003\n",
      "114000004\n",
      "145000005\n"
     ]
    },
    {
     "data": {
      "text/plain": [
       "145000005"
      ]
     },
     "execution_count": 23,
     "metadata": {},
     "output_type": "execute_result"
    }
   ],
   "source": [
    "dx.Run(5)"
   ]
  },
  {
   "cell_type": "code",
   "execution_count": 5,
   "metadata": {},
   "outputs": [
    {
     "data": {
      "text/plain": [
       "0"
      ]
     },
     "execution_count": 5,
     "metadata": {},
     "output_type": "execute_result"
    }
   ],
   "source": [
    "1//10"
   ]
  },
  {
   "cell_type": "code",
   "execution_count": 6,
   "metadata": {},
   "outputs": [
    {
     "name": "stdout",
     "output_type": "stream",
     "text": [
      "21\n"
     ]
    }
   ],
   "source": [
    "print(dx.SumOfOneNum(123456))"
   ]
  },
  {
   "cell_type": "code",
   "execution_count": 14,
   "metadata": {},
   "outputs": [
    {
     "name": "stdout",
     "output_type": "stream",
     "text": [
      "[1, 6, 11, 16]\n",
      "[2, 7, 12, 17]\n",
      "[3, 8, 13, 18]\n",
      "[4, 9, 14, 19]\n",
      "[5, 10, 15, 20]\n"
     ]
    }
   ],
   "source": [
    "def GetOneList(pos,t=5):\n",
    "    L = [x for x in range(1,20+1) if (x)%t==pos]\n",
    "    return L\n",
    "L = GetOneList(1)\n",
    "print(L)\n",
    "L = GetOneList(2)\n",
    "print(L)\n",
    "L = GetOneList(3)\n",
    "print(L)\n",
    "L = GetOneList(4)\n",
    "print(L)\n",
    "L = GetOneList(0)\n",
    "print(L)"
   ]
  },
  {
   "cell_type": "code",
   "execution_count": 2,
<<<<<<< HEAD
   "metadata": {},
=======
   "metadata": {
    "collapsed": true
   },
>>>>>>> master
   "outputs": [],
   "source": [
    "#使用多线程的方式\n",
    "import time,threading\n",
    "lock = threading.Lock()\n",
    "ThreadLine = 4\n",
    "dtx = Day69(ThreadLine)\n",
    "\n",
    "Res = 0\n",
    "\n",
    "def PrintNow(strs=''):\n",
    "    now = int(time.time())\n",
    "    timeArray = time.localtime(now)\n",
    "    otherStyleTime = time.strftime(\"%Y-%m-%d %H:%M:%S\", timeArray)\n",
    "    print(strs,'\\t',otherStyleTime)\n",
    "\n",
    "def ChangeRes(OneThreadRes):\n",
    "    global Res\n",
    "    lock.acquire()\n",
    "    Res += OneThreadRes\n",
    "    lock.release()\n",
    "\n",
    "def GetRes():\n",
    "    global Res\n",
    "    lock.acquire()\n",
    "    PrintNow()\n",
    "    ress = Res\n",
    "    lock.release()\n",
    "    return ress\n",
    "    \n",
    "def SumNums_Thread(Ri):\n",
    "    global dtx\n",
    "    sums = 0\n",
    "    n = 0\n",
    "    for x in range(dtx.Begin,dtx.Max+1):\n",
    "        if(x%ThreadLine!=Ri):\n",
    "            continue\n",
    "        sums += dtx.SumOfOneNum(x)\n",
    "        n += 1\n",
    "        if(n%(pow(10,6)*5)==0):\n",
    "            ChangeRes(sums)\n",
    "            sums = 0\n",
    "        if x %(pow(10,7))==0:\n",
    "            print('已运行到第\\t%d\\t组, sum= '%(x//pow(10,7)),GetRes())\n",
    "    ChangeRes(sums)\n",
    "\n",
    "def Run_Thread():\n",
    "    global Res\n",
    "    tx = []\n",
    "    for i in range(ThreadLine):\n",
    "        ti = threading.Thread(target=SumNums_Thread, args=(i,))\n",
    "        tx.append(ti)\n",
    "        \n",
    "    #start ALL Thread\n",
    "    for ti in tx:\n",
    "        ti.start()\n",
    "        \n",
    "    #join ALL Thread\n",
    "    for ti in tx:\n",
    "        ti.join()\n",
    "\n",
    "    return Res"
   ]
  },
  {
   "cell_type": "code",
   "execution_count": 3,
   "metadata": {},
   "outputs": [
    {
     "name": "stdout",
     "output_type": "stream",
     "text": [
      " \t 2018-03-20 23:14:30\n",
      " \t 2018-03-20 23:14:49\n",
      "已运行到第\t1\t组, sum=  0\n",
      " \t 2018-03-20 23:15:11\n",
      "已运行到第\t2\t组, sum=  157000002\n",
      " \t 2018-03-20 23:15:35\n",
      "已运行到第\t3\t组, sum=  640000002\n",
      " \t 2018-03-20 23:15:53\n",
      "已运行到第\t4\t组, sum=  807000004\n",
      " \t 2018-03-20 23:16:21\n",
      "已运行到第\t5\t组, sum=  1320000004\n",
      " \t 2018-03-20 23:16:41\n",
      "已运行到第\t6\t组, sum=  1497000006\n",
      " \t 2018-03-20 23:17:08\n",
      "已运行到第\t7\t组, sum=  2040000006\n",
      " \t 2018-03-20 23:17:38\n",
      "已运行到第\t8\t组, sum=  2607000008\n",
      " \t 2018-03-20 23:18:01\n",
      "已运行到第\t9\t组, sum=  2800000008\n",
      " \t 2018-03-20 23:18:27\n",
      "已运行到第\t10\t组, sum=  3397000001\n",
      " \t 2018-03-20 23:18:57\n",
      "已运行到第\t11\t组, sum=  3600000001\n",
      " \t 2018-03-20 23:19:23\n",
      "已运行到第\t12\t组, sum=  4260000003\n",
      " \t 2018-03-20 23:19:54\n",
      "已运行到第\t13\t组, sum=  4260000003\n",
      " \t 2018-03-20 23:20:17\n",
      "已运行到第\t14\t组, sum=  4960000005\n",
      " \t 2018-03-20 23:20:42\n",
      "已运行到第\t15\t组, sum=  4960000005\n",
      " \t 2018-03-20 23:21:09\n",
      "已运行到第\t16\t组, sum=  5700000007\n",
      " \t 2018-03-20 23:21:38\n",
      "已运行到第\t17\t组, sum=  6095000007\n",
      " \t 2018-03-20 23:21:58\n",
      "已运行到第\t18\t组, sum=  6480000009\n",
      " \t 2018-03-20 23:22:24\n",
      "已运行到第\t19\t组, sum=  6687000009\n",
      " \t 2018-03-20 23:22:54\n",
      "已运行到第\t20\t组, sum=  7300000002\n",
      " \t 2018-03-20 23:23:20\n",
      "已运行到第\t21\t组, sum=  7645000002\n",
      " \t 2018-03-20 23:23:50\n",
      "已运行到第\t22\t组, sum=  7980000004\n",
      " \t 2018-03-20 23:24:16\n",
      "已运行到第\t23\t组, sum=  8345000004\n",
      " \t 2018-03-20 23:24:40\n",
      "已运行到第\t24\t组, sum=  8700000006\n",
      " \t 2018-03-20 23:25:04\n",
      "已运行到第\t25\t组, sum=  9085000006\n",
      " \t 2018-03-20 23:25:34\n",
      "已运行到第\t26\t组, sum=  9662000008\n",
      " \t 2018-03-20 23:25:59\n",
      "已运行到第\t27\t组, sum=  9865000008\n",
      " \t 2018-03-20 23:26:27\n",
      "已运行到第\t28\t组, sum=  10472000010\n",
      " \t 2018-03-20 23:26:58\n",
      "已运行到第\t29\t组, sum=  10893000010\n",
      " \t 2018-03-20 23:27:19\n",
      "已运行到第\t30\t组, sum=  11277000003\n",
      " \t 2018-03-20 23:27:45\n",
      "已运行到第\t31\t组, sum=  11628000003\n",
      " \t 2018-03-20 23:28:16\n",
      "已运行到第\t32\t组, sum=  11987000005\n",
      " \t 2018-03-20 23:28:39\n",
      "已运行到第\t33\t组, sum=  12555000005\n",
      " \t 2018-03-20 23:29:05\n",
      "已运行到第\t34\t组, sum=  12737000007\n",
      " \t 2018-03-20 23:29:29\n",
      "已运行到第\t35\t组, sum=  13335000007\n",
      " \t 2018-03-20 23:29:56\n",
      "已运行到第\t36\t组, sum=  13527000009\n",
      " \t 2018-03-20 23:30:22\n",
      "已运行到第\t37\t组, sum=  14155000009\n",
      " \t 2018-03-20 23:30:46\n",
      "已运行到第\t38\t组, sum=  14570000011\n",
      " \t 2018-03-20 23:31:18\n",
      "已运行到第\t39\t组, sum=  14752000011\n",
      " \t 2018-03-20 23:31:43\n",
      "已运行到第\t40\t组, sum=  15552000004\n",
      " \t 2018-03-20 23:32:08\n",
      "已运行到第\t41\t组, sum=  15735000004\n",
      " \t 2018-03-20 23:32:29\n",
      "已运行到第\t42\t组, sum=  16100000006\n",
      " \t 2018-03-20 23:32:57\n",
      "已运行到第\t43\t组, sum=  16495000006\n",
      " \t 2018-03-20 23:33:23\n",
      "已运行到第\t44\t组, sum=  17092000008\n",
      " \t 2018-03-20 23:33:53\n",
      "已运行到第\t45\t组, sum=  17295000008\n",
      " \t 2018-03-20 23:34:15\n",
      "已运行到第\t46\t组, sum=  17922000010\n",
      " \t 2018-03-20 23:34:42\n",
      "已运行到第\t47\t组, sum=  18135000010\n",
      " \t 2018-03-20 23:35:10\n",
      "已运行到第\t48\t组, sum=  18747000012\n",
      " \t 2018-03-20 23:35:36\n",
      "已运行到第\t49\t组, sum=  18970000012\n",
      " \t 2018-03-20 23:35:57\n",
      "已运行到第\t50\t组, sum=  19567000005\n",
      " \t 2018-03-20 23:36:24\n",
      "已运行到第\t51\t组, sum=  19755000005\n",
      " \t 2018-03-20 23:36:50\n",
      "已运行到第\t52\t组, sum=  20337000007\n",
      " \t 2018-03-20 23:37:17\n",
      "已运行到第\t53\t组, sum=  20738000007\n",
      " \t 2018-03-20 23:37:46\n",
      "已运行到第\t54\t组, sum=  21147000009\n",
      " \t 2018-03-20 23:38:10\n",
      "已运行到第\t55\t组, sum=  21568000009\n",
      " \t 2018-03-20 23:38:35\n",
      "已运行到第\t56\t组, sum=  21997000011\n",
      " \t 2018-03-20 23:39:05\n",
      "已运行到第\t57\t组, sum=  22412000011\n",
      " \t 2018-03-20 23:39:30\n",
      "已运行到第\t58\t组, sum=  22842000013\n",
      " \t 2018-03-20 23:39:57\n",
      "已运行到第\t59\t组, sum=  23460000013\n",
      " \t 2018-03-20 23:40:21\n",
      "已运行到第\t60\t组, sum=  23682000006\n",
      " \t 2018-03-20 23:40:43\n",
      "已运行到第\t61\t组, sum=  24092000006\n",
      " \t 2018-03-20 23:41:11\n",
      "已运行到第\t62\t组, sum=  24472000008\n",
      " \t 2018-03-20 23:41:35\n",
      "已运行到第\t63\t组, sum=  25105000008\n",
      " \t 2018-03-20 23:42:00\n",
      "已运行到第\t64\t组, sum=  25302000010\n",
      " \t 2018-03-20 23:42:26\n",
      "已运行到第\t65\t组, sum=  25965000010\n",
      " \t 2018-03-20 23:42:51\n",
      "已运行到第\t66\t组, sum=  26172000012\n",
      " \t 2018-03-20 23:43:17\n",
      "已运行到第\t67\t组, sum=  26820000012\n",
      " \t 2018-03-20 23:43:44\n",
      "已运行到第\t68\t组, sum=  27037000014\n",
      " \t 2018-03-20 23:44:05\n",
      "已运行到第\t69\t组, sum=  27670000014\n",
      " \t 2018-03-20 23:44:38\n",
      "已运行到第\t70\t组, sum=  27897000007\n",
      " \t 2018-03-20 23:45:01\n",
      "已运行到第\t71\t组, sum=  28515000007\n",
      " \t 2018-03-20 23:45:26\n",
      "已运行到第\t72\t组, sum=  28707000009\n",
      " \t 2018-03-20 23:45:53\n",
      "已运行到第\t73\t组, sum=  29355000009\n",
      " \t 2018-03-20 23:46:23\n",
      "已运行到第\t74\t组, sum=  29794000011\n",
      " \t 2018-03-20 23:46:47\n",
      "已运行到第\t75\t组, sum=  30235000011\n",
      " \t 2018-03-20 23:47:15\n",
      "已运行到第\t76\t组, sum=  30649000013\n",
      " \t 2018-03-20 23:47:38\n",
      "已运行到第\t77\t组, sum=  31110000013\n",
      " \t 2018-03-20 23:48:03\n",
      "已运行到第\t78\t组, sum=  31544000015\n",
      " \t 2018-03-20 23:48:24\n",
      "已运行到第\t79\t组, sum=  31980000015\n",
      " \t 2018-03-20 23:48:52\n",
      "已运行到第\t80\t组, sum=  32434000008\n",
      " \t 2018-03-20 23:49:20\n",
      "已运行到第\t81\t组, sum=  32845000008\n",
      " \t 2018-03-20 23:49:49\n",
      "已运行到第\t82\t组, sum=  33274000010\n",
      " \t 2018-03-20 23:50:24\n",
      "已运行到第\t83\t组, sum=  33947000010\n",
      " \t 2018-03-20 23:50:49\n",
      "已运行到第\t84\t组, sum=  34382000012\n",
      " \t 2018-03-20 23:51:17\n",
      "已运行到第\t85\t组, sum=  34812000012\n",
      " \t 2018-03-20 23:51:45\n",
      "已运行到第\t86\t组, sum=  35500000014\n",
      " \t 2018-03-20 23:52:13\n",
      "已运行到第\t87\t组, sum=  35717000014\n",
      " \t 2018-03-20 23:52:44\n",
      "已运行到第\t88\t组, sum=  36617000016\n",
      " \t 2018-03-20 23:53:16\n",
      "已运行到第\t89\t组, sum=  36830000016\n",
      " \t 2018-03-20 23:53:37\n",
      "已运行到第\t90\t组, sum=  37512000009\n",
      " \t 2018-03-20 23:54:06\n",
      "已运行到第\t91\t组, sum=  37735000009\n",
      " \t 2018-03-20 23:54:30\n",
      "已运行到第\t92\t组, sum=  38402000011\n",
      " \t 2018-03-20 23:54:49\n",
      "已运行到第\t93\t组, sum=  38635000011\n",
      " \t 2018-03-20 23:55:07\n",
      "已运行到第\t94\t组, sum=  39075000013\n",
      " \t 2018-03-20 23:55:21\n",
      "已运行到第\t95\t组, sum=  39318000013\n",
      " \t 2018-03-20 23:55:33\n",
      "已运行到第\t96\t组, sum=  39778000015\n",
      " \t 2018-03-20 23:55:46\n",
      "已运行到第\t97\t组, sum=  39778000015\n",
      " \t 2018-03-20 23:55:55\n",
      "已运行到第\t98\t组, sum=  40258000017\n",
      " \t 2018-03-20 23:56:01\n",
      "已运行到第\t99\t组, sum=  40258000017\n",
      "40500000001 \n",
      "\t 2018-03-20 23:56:07\n",
      "已运行到第\t100\t组, sum=  40500000001\n"
     ]
    }
   ],
   "source": [
    "PrintNow()\n",
    "print(Run_Thread())"
   ]
  },
  {
   "cell_type": "code",
   "execution_count": 3,
   "metadata": {},
   "outputs": [
    {
     "name": "stdout",
     "output_type": "stream",
     "text": [
      "已运行到第\t10\t组, sum=  0\n"
     ]
    }
   ],
   "source": [
    "x = pow(10,8)\n",
    "print('已运行到第\\t%d\\t组, sum= '%(x//pow(10,7)),GetRes())"
   ]
  },
  {
   "cell_type": "code",
   "execution_count": null,
   "metadata": {
    "collapsed": true
   },
   "outputs": [],
   "source": [
    "print(time.time)"
   ]
  },
  {
   "cell_type": "code",
   "execution_count": null,
   "metadata": {
    "collapsed": true
   },
   "outputs": [],
   "source": []
  }
 ],
 "metadata": {
  "kernelspec": {
   "display_name": "Python 3",
   "language": "python",
   "name": "python3"
  },
  "language_info": {
   "codemirror_mode": {
    "name": "ipython",
    "version": 3
   },
   "file_extension": ".py",
   "mimetype": "text/x-python",
   "name": "python",
   "nbconvert_exporter": "python",
   "pygments_lexer": "ipython3",
<<<<<<< HEAD
   "version": "3.5.2"
=======
   "version": "3.6.2"
>>>>>>> master
  }
 },
 "nbformat": 4,
 "nbformat_minor": 2
}
