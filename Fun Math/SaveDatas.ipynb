{
 "cells": [
  {
   "cell_type": "code",
   "execution_count": 15,
   "metadata": {
    "collapsed": true
   },
   "outputs": [],
   "source": [
    "import os"
   ]
  },
  {
   "cell_type": "code",
   "execution_count": 92,
   "metadata": {},
   "outputs": [],
   "source": [
    "class SaveDa(object):\n",
    "    OncePrint = True\n",
    "    \n",
    "    def __init__(self):\n",
    "        self.abspath = self.GetAbspath() + '\\\\Saves.txt'\n",
    "    \n",
    "    def Run_Test(self):\n",
    "        print('SaveDatas class could be Runing!')\n",
    "        \n",
    "    def PrintRes(func):\n",
    "        def wrapper(*arg,**kw):\n",
    "            if arg[0].OncePrint:\n",
    "                arg[0].OncePrint = False\n",
    "                Res = func(*arg,**kw)\n",
    "                arg[0].OncePrint = True\n",
    "                print('func name: %s\\tRes:'%func.__name__,Res)\n",
    "            else:\n",
    "                Res = func(*arg,**kw)\n",
    "            return Res\n",
    "        return wrapper\n",
    "        \n",
    "    def GetAbspath(self):\n",
    "        return os.path.abspath('.')\n",
    "    \n",
    "    @PrintRes\n",
    "    def str_Rd(self):\n",
    "        strs = ''\n",
    "        if os.path.exists(self.abspath):\n",
    "            fp = open(self.abspath,'r')\n",
    "            strs = fp.read()\n",
    "            fp.close()\n",
    "        return strs\n",
    "    \n",
    "    def str_Wd(self,strs):\n",
    "        fp = open(self.abspath,'w')\n",
    "        fp.write(strs)\n",
    "        fp.close\n",
    "        \n",
    "    @PrintRes\n",
    "    def int_Rd(self):\n",
    "        return int(self.str_Rd())\n",
    "    \n",
    "    def int_Wd(self,x):\n",
    "        strx = str(x)\n",
    "        self.str_Wd(strx)\n",
    "        \n",
    "    @PrintRes\n",
    "    def Lint_Rd(self):\n",
    "        strx = self.str_Rd()\n",
    "        Lx = strx.split(',')\n",
    "        Intx = []\n",
    "        for sx in Lx:\n",
    "            Intx.append(int(sx))\n",
    "        return Intx\n",
    "    \n",
    "    def Lint_Wd(self,Lx):\n",
    "        strx = ''\n",
    "        for x in Lx:\n",
    "            strx += str(x)\n",
    "            if x != Lx[-1]:\n",
    "                strx += ','\n",
    "        self.str_Wd(strx)\n",
    "        "
   ]
  },
  {
   "cell_type": "code",
   "execution_count": 93,
   "metadata": {},
   "outputs": [
    {
     "data": {
      "text/plain": [
       "True"
      ]
     },
     "execution_count": 93,
     "metadata": {},
     "output_type": "execute_result"
    }
   ],
   "source": [
    "sd = SaveDa()\n",
    "sd.OncePrint"
   ]
  },
  {
   "cell_type": "code",
   "execution_count": 94,
   "metadata": {},
   "outputs": [
    {
     "name": "stdout",
     "output_type": "stream",
     "text": [
      "E:\\GitHubCode\\HelloWorld\\Fun Math\\Saves.txt\n"
     ]
    }
   ],
   "source": [
    "print(sd.abspath)"
   ]
  },
  {
   "cell_type": "code",
   "execution_count": 95,
   "metadata": {},
   "outputs": [
    {
     "name": "stdout",
     "output_type": "stream",
     "text": [
      "func name: str_Rd\tRes: 测x1\n"
     ]
    }
   ],
   "source": [
    "sd.str_Wd('测x1')\n",
    "Res = sd.str_Rd()"
   ]
  },
  {
   "cell_type": "code",
   "execution_count": 96,
   "metadata": {},
   "outputs": [
    {
     "name": "stdout",
     "output_type": "stream",
     "text": [
      "func name: int_Rd\tRes: 123\n"
     ]
    }
   ],
   "source": [
    "sd.int_Wd('123')\n",
    "Res = sd.int_Rd()"
   ]
  },
  {
   "cell_type": "code",
   "execution_count": 97,
   "metadata": {},
   "outputs": [
    {
     "name": "stdout",
     "output_type": "stream",
     "text": [
      "func name: Lint_Rd\tRes: [0, 2, 4, 6, 8, 10, 12, 14, 16, 18, 20, 22, 24, 26, 28, 30, 32, 34, 36, 38, 40, 42, 44, 46, 48, 50, 52, 54, 56, 58, 60, 62, 64, 66, 68, 70, 72, 74, 76, 78, 80, 82, 84, 86, 88, 90, 92, 94, 96, 98]\n"
     ]
    }
   ],
   "source": [
    "Lx = [x for x in range(100) if x%2==0]\n",
    "sd.Lint_Wd(Lx)\n",
    "Res = sd.Lint_Rd()"
   ]
  },
  {
   "cell_type": "code",
   "execution_count": null,
   "metadata": {
    "collapsed": true
   },
   "outputs": [],
   "source": []
  }
 ],
 "metadata": {
  "kernelspec": {
   "display_name": "Python 3",
   "language": "python",
   "name": "python3"
  },
  "language_info": {
   "codemirror_mode": {
    "name": "ipython",
    "version": 3
   },
   "file_extension": ".py",
   "mimetype": "text/x-python",
   "name": "python",
   "nbconvert_exporter": "python",
   "pygments_lexer": "ipython3",
   "version": "3.6.2"
  }
 },
 "nbformat": 4,
 "nbformat_minor": 2
}
