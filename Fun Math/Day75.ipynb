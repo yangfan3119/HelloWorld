{
 "cells": [
  {
   "cell_type": "code",
   "execution_count": 4,
   "metadata": {
    "collapsed": true
   },
   "outputs": [],
   "source": [
    "class Day75(object):\n",
    "    \n",
    "    def __init__(self):\n",
    "        self.Max = 10000\n",
    "    \n",
    "    def GetSomePrimeNumber(self):\n",
    "        Lx = [x for x in range(2,self.Max+1)]\n",
    "        for i in range(len(Lx)):\n",
    "            xi = Lx[i]\n",
    "            if xi != 0 and i+1<len(Lx):\n",
    "                for j in range(i+1,len(Lx)):\n",
    "                    xj = Lx[j]\n",
    "                    if xj%xi==0:\n",
    "                        Lx[j]=0\n",
    "        Ly = [x for x in Lx if x!=0]\n",
    "        return Ly\n",
    "    \n",
    "    "
   ]
  },
  {
   "cell_type": "code",
   "execution_count": 5,
   "metadata": {},
   "outputs": [
    {
     "name": "stdout",
     "output_type": "stream",
     "text": [
      "[2, 3, 5, 7, 11, 13, 17, 19, 23, 29]\n"
     ]
    }
   ],
   "source": [
    "dx = Day75()\n",
    "PrimeNum = dx.GetSomePrimeNumber()\n",
    "print(PrimeNum[:10])"
   ]
  },
  {
   "cell_type": "code",
   "execution_count": 12,
   "metadata": {},
   "outputs": [],
   "source": [
    "from SaveData import SaveDa as sd"
   ]
  },
  {
   "cell_type": "code",
   "execution_count": 14,
   "metadata": {},
   "outputs": [
    {
     "name": "stdout",
     "output_type": "stream",
     "text": [
      "SaveDatas class could be Runing!\n"
     ]
    }
   ],
   "source": [
    "tx = sd()\n",
    "tx.Run_Test()"
   ]
  },
  {
   "cell_type": "code",
   "execution_count": null,
   "metadata": {
    "collapsed": true
   },
   "outputs": [],
   "source": []
  }
 ],
 "metadata": {
  "kernelspec": {
   "display_name": "Python 3",
   "language": "python",
   "name": "python3"
  },
  "language_info": {
   "codemirror_mode": {
    "name": "ipython",
    "version": 3
   },
   "file_extension": ".py",
   "mimetype": "text/x-python",
   "name": "python",
   "nbconvert_exporter": "python",
   "pygments_lexer": "ipython3",
   "version": "3.6.2"
  }
 },
 "nbformat": 4,
 "nbformat_minor": 2
}
