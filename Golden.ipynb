{
 "cells": [
  {
   "cell_type": "code",
   "execution_count": null,
   "metadata": {
    "collapsed": true
   },
   "outputs": [],
   "source": [
    "class Gold(object):\n",
    "    def __init__(self):\n",
    "        self.ozTog = 28.3495231\n",
    "        self.USDtoRMB = 6.2745\n",
    "        self.RMBtoUSD = 6.2807\n",
    "    \n",
    "    def ChOzToG(self,oz):\n",
    "        return oz*self.ozTog\n",
    "    \n",
    "    def ChGToOz(self,g):\n",
    "        return g/self.ozTog\n",
    "    \n",
    "    def ChUSDToRMB(self,usd):\n",
    "        return usd*self.USDtoRMB\n",
    "    \n",
    "    def ChRMBToUSD(self,rmb):\n",
    "        return rmb/self.RMBtoUSD\n",
    "    \n",
    "    def GetOzPriceToGPrice(self,price):\n",
    "        price_rmb = self.ChUSDToRMB(price)\n",
    "        gx = self.ChOzToG(1)\n",
    "        return price_rmb/gx\n",
    "    \n",
    "    def GetGPriceToOzPrice(self,price):\n",
    "        price_usd = self.ChRMBToUSD(price)\n",
    "        ozx = self.ChGToOz(1)\n",
    "        return price_usd/ozx"
   ]
  },
  {
   "cell_type": "code",
   "execution_count": 13,
   "metadata": {
    "collapsed": true
   },
   "outputs": [],
   "source": [
    "gld = Gold()"
   ]
  },
  {
   "cell_type": "code",
   "execution_count": 14,
   "metadata": {},
   "outputs": [
    {
     "name": "stdout",
     "output_type": "stream",
     "text": [
      "298.7907405045554\n"
     ]
    }
   ],
   "source": [
    "print(gld.GetOzPriceToGPrice(1350))"
   ]
  },
  {
   "cell_type": "code",
   "execution_count": 15,
   "metadata": {},
   "outputs": [
    {
     "name": "stdout",
     "output_type": "stream",
     "text": [
      "1242.166535422421\n"
     ]
    }
   ],
   "source": [
    "print(gld.GetGPriceToOzPrice(275.1960))"
   ]
  },
  {
   "cell_type": "code",
   "execution_count": 16,
   "metadata": {
    "collapsed": true
   },
   "outputs": [],
   "source": [
    "#博世金价和自己算的金价差异明显啊，买入和卖出的情况相差太多，需要重新核实对方的计价公式"
   ]
  },
  {
   "cell_type": "code",
   "execution_count": null,
   "metadata": {
    "collapsed": true
   },
   "outputs": [],
   "source": []
  }
 ],
 "metadata": {
  "kernelspec": {
   "display_name": "Python 3",
   "language": "python",
   "name": "python3"
  },
  "language_info": {
   "codemirror_mode": {
    "name": "ipython",
    "version": 3
   },
   "file_extension": ".py",
   "mimetype": "text/x-python",
   "name": "python",
   "nbconvert_exporter": "python",
   "pygments_lexer": "ipython3",
   "version": "3.6.2"
  }
 },
 "nbformat": 4,
 "nbformat_minor": 2
}
