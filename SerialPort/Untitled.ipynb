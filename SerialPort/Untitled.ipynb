{
 "cells": [
  {
   "cell_type": "code",
   "execution_count": 2,
   "metadata": {
    "collapsed": true
   },
   "outputs": [],
   "source": [
    "import serial\n",
    "import serial.tools.list_ports"
   ]
  },
  {
   "cell_type": "code",
   "execution_count": 55,
   "metadata": {},
   "outputs": [
    {
     "name": "stdout",
     "output_type": "stream",
     "text": [
      "portlist: COM1 - 通信端口 (COM1)\n",
      "SerialPort: COM1\n",
      "portlist: COM5 - Prolific USB-to-Serial Comm Port (COM5)\n",
      "SerialPort: COM5\n"
     ]
    }
   ],
   "source": [
    "port_list = list(serial.tools.list_ports.comports())\n",
    "portname = ''\n",
    "if(len(port_list) <= 0):\n",
    "    print(\"The Serial port can't find!\")\n",
    "else:\n",
    "    for onePort in port_list:\n",
    "        port_serial = list(onePort)[0]\n",
    "        print(\"portlist:\", onePort)\n",
    "        print(\"SerialPort:\", port_serial)"
   ]
  },
  {
   "cell_type": "code",
   "execution_count": 64,
   "metadata": {},
   "outputs": [],
   "source": [
    "ser = serial.Serial('COM5', 115200)"
   ]
  },
  {
   "cell_type": "code",
   "execution_count": 65,
   "metadata": {},
   "outputs": [
    {
     "data": {
      "text/plain": [
       "19"
      ]
     },
     "execution_count": 65,
     "metadata": {},
     "output_type": "execute_result"
    }
   ],
   "source": [
    "ser.inWaiting()"
   ]
  },
  {
   "cell_type": "code",
   "execution_count": 79,
   "metadata": {},
   "outputs": [
    {
     "name": "stdout",
     "output_type": "stream",
     "text": [
      "['0x45', '0x0', '0x8d', '0x9f', '0xc6', '0xcf', '0xfa', '0xe6', '0x22', '0x45']\n",
      "['0x0', '0x8d', '0x9f', '0xc6', '0xcf', '0xfa', '0xe6', '0x22', '0x45', '0x0']\n",
      "['0x8d', '0x9f', '0xc6', '0xcf', '0xfa', '0xe6', '0x22', '0x45', '0x0', '0x8d']\n",
      "['0x9f', '0xc6', '0xcf', '0xfa', '0xe6', '0x22', '0x45', '0x0', '0x8d', '0x9f']\n"
     ]
    }
   ],
   "source": [
    "data = ser.read(50)\n",
    "bindata = []\n",
    "for bx in data:\n",
    "    bindata.append(hex(bx))\n",
    "# print(data)\n",
    "print(bindata[:10])\n",
    "print(bindata[10:20])\n",
    "print(bindata[20:30])\n",
    "print(bindata[30:40])"
   ]
  },
  {
   "cell_type": "code",
   "execution_count": 80,
   "metadata": {
    "collapsed": true
   },
   "outputs": [],
   "source": [
    "ser.close()"
   ]
  },
  {
   "cell_type": "code",
   "execution_count": null,
   "metadata": {
    "collapsed": true
   },
   "outputs": [],
   "source": []
  }
 ],
 "metadata": {
  "kernelspec": {
   "display_name": "Python 3",
   "language": "python",
   "name": "python3"
  },
  "language_info": {
   "codemirror_mode": {
    "name": "ipython",
    "version": 3
   },
   "file_extension": ".py",
   "mimetype": "text/x-python",
   "name": "python",
   "nbconvert_exporter": "python",
   "pygments_lexer": "ipython3",
   "version": "3.6.2"
  }
 },
 "nbformat": 4,
 "nbformat_minor": 2
}
