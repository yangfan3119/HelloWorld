{
 "cells": [
  {
   "cell_type": "code",
   "execution_count": 7,
   "metadata": {
    "collapsed": true
   },
   "outputs": [],
   "source": [
    "class Student(object):\n",
    "    def __init__(self,name,score):\n",
    "        self.__name = name\n",
    "        self.__score = score\n",
    "    \n",
    "    def print_score(self):\n",
    "        print(self.__name,self.__score)\n"
   ]
  },
  {
   "cell_type": "code",
   "execution_count": 8,
   "metadata": {},
   "outputs": [
    {
     "data": {
      "text/plain": [
       "__main__.Student"
      ]
     },
     "execution_count": 8,
     "metadata": {},
     "output_type": "execute_result"
    }
   ],
   "source": [
    "Student"
   ]
  },
  {
   "cell_type": "code",
   "execution_count": 9,
   "metadata": {},
   "outputs": [
    {
     "name": "stdout",
     "output_type": "stream",
     "text": [
      "bath 16\n"
     ]
    }
   ],
   "source": [
    "stu = Student('bath',16)\n",
    "stu.print_score()"
   ]
  },
  {
   "cell_type": "code",
   "execution_count": 10,
   "metadata": {},
   "outputs": [
    {
     "data": {
      "text/plain": [
       "'lx'"
      ]
     },
     "execution_count": 10,
     "metadata": {},
     "output_type": "execute_result"
    }
   ],
   "source": [
    "stu.BigName = 'lx'\n",
    "stu.BigName"
   ]
  },
  {
   "cell_type": "code",
   "execution_count": 11,
   "metadata": {
    "scrolled": false
   },
   "outputs": [
    {
     "ename": "AttributeError",
     "evalue": "'Student' object has no attribute '__name'",
     "output_type": "error",
     "traceback": [
      "\u001b[1;31m---------------------------------------------------------------------------\u001b[0m",
      "\u001b[1;31mAttributeError\u001b[0m                            Traceback (most recent call last)",
      "\u001b[1;32m<ipython-input-11-68089e79aad9>\u001b[0m in \u001b[0;36m<module>\u001b[1;34m()\u001b[0m\n\u001b[1;32m----> 1\u001b[1;33m \u001b[0mstu\u001b[0m\u001b[1;33m.\u001b[0m\u001b[0m__name\u001b[0m\u001b[1;33m\u001b[0m\u001b[0m\n\u001b[0m",
      "\u001b[1;31mAttributeError\u001b[0m: 'Student' object has no attribute '__name'"
     ]
    }
   ],
   "source": [
    "stu.__name"
   ]
  },
  {
   "cell_type": "code",
   "execution_count": 12,
   "metadata": {},
   "outputs": [
    {
     "data": {
      "text/plain": [
       "'bath'"
      ]
     },
     "execution_count": 12,
     "metadata": {},
     "output_type": "execute_result"
    }
   ],
   "source": [
    "stu._Student__name"
   ]
  },
  {
   "cell_type": "code",
   "execution_count": 14,
   "metadata": {
    "collapsed": true
   },
   "outputs": [],
   "source": [
    "#测试习题\n",
    "class Test_Student(object):\n",
    "    def __init__(self,name,gender):\n",
    "        self.name=name\n",
    "        self.__gender=gender\n",
    "    \n",
    "    def get_gender(self):\n",
    "        return self.__gender\n",
    "    \n",
    "    def set_gender(self,gender):\n",
    "        self.__gender=gender"
   ]
  },
  {
   "cell_type": "code",
   "execution_count": 16,
   "metadata": {},
   "outputs": [
    {
     "name": "stdout",
     "output_type": "stream",
     "text": [
      "测试成功!\n"
     ]
    }
   ],
   "source": [
    "# 测试:\n",
    "bart = Test_Student('Bart', 'male')\n",
    "if bart.get_gender() != 'male':\n",
    "    print('测试失败!')\n",
    "else:\n",
    "    bart.set_gender('female')\n",
    "    if bart.get_gender() != 'female':\n",
    "        print('测试失败!')\n",
    "    else:\n",
    "        print('测试成功!')"
   ]
  },
  {
   "cell_type": "code",
   "execution_count": 17,
   "metadata": {},
   "outputs": [
    {
     "name": "stdout",
     "output_type": "stream",
     "text": [
      "<class 'function'>\n",
      "<class 'builtin_function_or_method'>\n"
     ]
    }
   ],
   "source": [
    "import types\n",
    "def fn():\n",
    "    pass\n",
    "\n",
    "print(type(fn))\n",
    "print(type(abs))"
   ]
  },
  {
   "cell_type": "code",
   "execution_count": 18,
   "metadata": {},
   "outputs": [
    {
     "data": {
      "text/plain": [
       "['__class__',\n",
       " '__delattr__',\n",
       " '__dict__',\n",
       " '__dir__',\n",
       " '__doc__',\n",
       " '__eq__',\n",
       " '__format__',\n",
       " '__ge__',\n",
       " '__getattribute__',\n",
       " '__gt__',\n",
       " '__hash__',\n",
       " '__init__',\n",
       " '__le__',\n",
       " '__lt__',\n",
       " '__module__',\n",
       " '__ne__',\n",
       " '__new__',\n",
       " '__reduce__',\n",
       " '__reduce_ex__',\n",
       " '__repr__',\n",
       " '__setattr__',\n",
       " '__sizeof__',\n",
       " '__str__',\n",
       " '__subclasshook__',\n",
       " '__weakref__',\n",
       " 'get_gender',\n",
       " 'set_gender']"
      ]
     },
     "execution_count": 18,
     "metadata": {},
     "output_type": "execute_result"
    }
   ],
   "source": [
    "dir(Test_Student)"
   ]
  },
  {
   "cell_type": "code",
   "execution_count": 24,
   "metadata": {},
   "outputs": [
    {
     "name": "stdout",
     "output_type": "stream",
     "text": [
      "重新添加x,并初始化： ABCD\n"
     ]
    }
   ],
   "source": [
    "bart = None\n",
    "bart=Student('barth',20)\n",
    "\n",
    "if(hasattr(bart,'x')):\n",
    "    print('已存在x:',getattr(bart,'x'))\n",
    "else:\n",
    "    setattr(bart,'x','ABCD')\n",
    "    print('重新添加x,并初始化：',getattr(bart,'x'))"
   ]
  },
  {
   "cell_type": "code",
   "execution_count": 40,
   "metadata": {
    "collapsed": true
   },
   "outputs": [],
   "source": [
    "import sys\n",
    "class Animal(object):\n",
    "    def __init__(self):\n",
    "        self.__className=self.__class__.__name__\n",
    "        \n",
    "    def run(self):\n",
    "        print(self.__className,\" is aan Animal\")\n",
    "\n",
    "class Cat(Animal):\n",
    "    pass\n",
    "\n",
    "class Dog(Animal):\n",
    "    pass"
   ]
  },
  {
   "cell_type": "code",
   "execution_count": 41,
   "metadata": {},
   "outputs": [
    {
     "name": "stdout",
     "output_type": "stream",
     "text": [
      "Cat  is aan Animal\n",
      "Dog  is aan Animal\n"
     ]
    }
   ],
   "source": [
    "c = Cat()\n",
    "c.run()\n",
    "\n",
    "d = Dog()\n",
    "d.run()"
   ]
  },
  {
   "cell_type": "code",
   "execution_count": 64,
   "metadata": {
    "collapsed": true
   },
   "outputs": [],
   "source": [
    "class T2_Student(object):\n",
    "    count = 0\n",
    "    \n",
    "    def __init__(self,name):\n",
    "        self.name = name\n",
    "        T2_Student.count += 1"
   ]
  },
  {
   "cell_type": "code",
   "execution_count": 65,
   "metadata": {},
   "outputs": [
    {
     "name": "stdout",
     "output_type": "stream",
     "text": [
      "Students: 2\n",
      "测试通过!\n"
     ]
    }
   ],
   "source": [
    "if T2_Student.count != 0:\n",
    "    print('测试失败1!')\n",
    "else:\n",
    "    bart = T2_Student('Bart')\n",
    "    if T2_Student.count != 1:\n",
    "        print('测试失败2!')\n",
    "    else:\n",
    "        lisa = T2_Student('Bart')\n",
    "        if T2_Student.count != 2:\n",
    "            print('测试失败3!')\n",
    "        else:\n",
    "            print('Students:', T2_Student.count)\n",
    "            print('测试通过!')"
   ]
  },
  {
   "cell_type": "code",
   "execution_count": 66,
   "metadata": {},
   "outputs": [
    {
     "name": "stdout",
     "output_type": "stream",
     "text": [
      "2\n",
      "3 3\n",
      "4 4\n"
     ]
    }
   ],
   "source": [
    "print(T2_Student.count)\n",
    "a = T2_Student('a');\n",
    "print(a.count,T2_Student.count)\n",
    "b = T2_Student('b');\n",
    "print(b.count,T2_Student.count)"
   ]
  },
  {
   "cell_type": "code",
   "execution_count": 15,
   "metadata": {},
   "outputs": [
    {
     "name": "stdout",
     "output_type": "stream",
     "text": [
      "2.5 \t 1FF \t FF8\n",
      "2.4989 \t 1FE \t FF0\n",
      "2.4978 \t 1FD \t FE8\n",
      "2.45 \t 1D7 \t EB8\n",
      "2.4 \t 1AE \t D70\n",
      "2.35 \t 186 \t C30\n",
      "2.3 \t 15D \t AE8\n",
      "2.25 \t 134 \t 9A0\n",
      "2.2 \t 10C \t 860\n",
      "2.15 \t E3 \t 718\n",
      "2.1 \t BA \t 5D0\n",
      "2.05 \t 91 \t 488\n",
      "2.0 \t 69 \t 348\n"
     ]
    }
   ],
   "source": [
    "def Fx(x):\n",
    "    return format(x,'X')\n",
    "\n",
    "def SetHex(s,N9):\n",
    "    Tx = N9<<3\n",
    "    print(s,'\\t',Fx(N9),'\\t',Fx(Tx))\n",
    "\n",
    "SetHex(2.5000,0x1FF)\n",
    "SetHex(2.4989,0x1FE)\n",
    "SetHex(2.4978,0x1FD)\n",
    "SetHex(2.45,0x1D7)\n",
    "SetHex(2.4,0x1AE)\n",
    "SetHex(2.35,0x186)\n",
    "SetHex(2.30,0x15D)\n",
    "SetHex(2.25,0x134)\n",
    "SetHex(2.20,0x10C)\n",
    "SetHex(2.15,0x0E3)\n",
    "SetHex(2.10,0x0BA)\n",
    "SetHex(2.05,0x091)\n",
    "SetHex(2.00,0x069)"
   ]
  },
  {
   "cell_type": "code",
   "execution_count": 44,
   "metadata": {
    "collapsed": true
   },
   "outputs": [],
   "source": [
    "def GetBitNum(sts):\n",
    "    x = 0\n",
    "    for c in sts:\n",
    "        x = x<<1\n",
    "        if c == '1':\n",
    "            x += 1\n",
    "    return x\n",
    "\n",
    "def Change16Bit(stx):\n",
    "    while len(stx)<16:\n",
    "        stx = '0' + stx\n",
    "    return stx\n",
    "\n",
    "def PrintAll(Nx):\n",
    "    strx = Change16Bit(str(format(Nx,'b')))\n",
    "    Nx = GetBitNum(strx)\n",
    "    print(Nx,len(strx),strx)\n",
    "    sts = ''\n",
    "    for x in strx:\n",
    "        if x == '0':\n",
    "            sts += '1'\n",
    "        else:\n",
    "            sts += '0'\n",
    "    strx = sts\n",
    "    Nx1 = GetBitNum(strx)\n",
    "    print(Nx1,len(strx),strx)\n",
    "    Nx2 = Nx1 +1\n",
    "    print(Nx2,len(strx),Change16Bit(format(Nx2,'b')))\n",
    "    Nx3 = Nx1<<1\n",
    "    print(Nx3,len(strx),Change16Bit(format(Nx3,'b')))\n",
    "    \n",
    "    \n",
    "    return\n",
    "    for t in range(len(strx)):\n",
    "        for i in range(len(strx)):\n",
    "            bx = 0\n",
    "            for xi in range(len(strx)):\n",
    "                x = strx[xi]\n",
    "                bx = bx<<1\n",
    "                if xi==i or xi == t:\n",
    "                    #bx = bx<<1\n",
    "                    #if x=='1':\n",
    "                    bx = bx+1\n",
    "                    continue\n",
    "                if x=='1':\n",
    "                    bx = bx + 1\n",
    "            if bx > 45000:\n",
    "                print(bx,format(bx,'b'))"
   ]
  },
  {
   "cell_type": "code",
   "execution_count": 45,
   "metadata": {
    "collapsed": true
   },
   "outputs": [],
   "source": [
    "a = 0b1000000011100000"
   ]
  },
  {
   "cell_type": "code",
   "execution_count": 46,
   "metadata": {},
   "outputs": [
    {
     "name": "stdout",
     "output_type": "stream",
     "text": [
      "32992 16 1000000011100000\n",
      "32543 16 0111111100011111\n",
      "32544 16 0111111100100000\n",
      "65086 16 1111111000111110\n"
     ]
    }
   ],
   "source": [
    "PrintAll(a)"
   ]
  },
  {
   "cell_type": "code",
   "execution_count": 59,
   "metadata": {},
   "outputs": [
    {
     "data": {
      "text/plain": [
       "20"
      ]
     },
     "execution_count": 59,
     "metadata": {},
     "output_type": "execute_result"
    }
   ],
   "source": [
    "10<<1"
   ]
  },
  {
   "cell_type": "code",
   "execution_count": 54,
   "metadata": {},
   "outputs": [
    {
     "data": {
      "text/plain": [
       "28672.0"
      ]
     },
     "execution_count": 54,
     "metadata": {},
     "output_type": "execute_result"
    }
   ],
   "source": [
    "pow(2,15)*(1.75/2)"
   ]
  },
  {
   "cell_type": "code",
   "execution_count": 48,
   "metadata": {},
   "outputs": [],
   "source": [
    "Kv = (pow(2,15)+1)/pow(2,16)"
   ]
  },
  {
   "cell_type": "code",
   "execution_count": 50,
   "metadata": {},
   "outputs": [
    {
     "name": "stdout",
     "output_type": "stream",
     "text": [
      "0.5000152587890625\n"
     ]
    }
   ],
   "source": [
    "print(Kv)"
   ]
  },
  {
   "cell_type": "code",
   "execution_count": 53,
   "metadata": {},
   "outputs": [
    {
     "name": "stdout",
     "output_type": "stream",
     "text": [
      "32767\n"
     ]
    }
   ],
   "source": [
    "DHx = 0x7FFF\n",
    "print(DHx)"
   ]
  },
  {
   "cell_type": "code",
   "execution_count": 55,
   "metadata": {},
   "outputs": [
    {
     "data": {
      "text/plain": [
       "16384"
      ]
     },
     "execution_count": 55,
     "metadata": {},
     "output_type": "execute_result"
    }
   ],
   "source": [
    "pow(2,14)"
   ]
  },
  {
   "cell_type": "code",
   "execution_count": null,
   "metadata": {
    "collapsed": true
   },
   "outputs": [],
   "source": []
  }
 ],
 "metadata": {
  "kernelspec": {
   "display_name": "Python 3",
   "language": "python",
   "name": "python3"
  },
  "language_info": {
   "codemirror_mode": {
    "name": "ipython",
    "version": 3
   },
   "file_extension": ".py",
   "mimetype": "text/x-python",
   "name": "python",
   "nbconvert_exporter": "python",
   "pygments_lexer": "ipython3",
   "version": "3.6.2"
  }
 },
 "nbformat": 4,
 "nbformat_minor": 2
}
