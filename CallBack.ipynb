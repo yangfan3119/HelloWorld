{
 "cells": [
  {
   "cell_type": "code",
   "execution_count": 38,
   "metadata": {},
   "outputs": [],
   "source": [
    "import numpy as np\n",
    "\n",
    "class people(object):\n",
    "    \n",
    "    def __init__(self,name,age,sex):\n",
    "        self._name = name\n",
    "        self._age = age\n",
    "        self._sex = sex\n",
    "        self._BAnsName = None\n",
    "        self.__STIODXDFX__ = None\n",
    "        \n",
    "    def SetPeople(self,ple):\n",
    "        self._BAnsName = ple.AnsName;\n",
    "    \n",
    "    def AskName(self):\n",
    "        print('你的名字叫什么啊？')\n",
    "        self._BAnsName()\n",
    "        \n",
    "    def AnsName(self):\n",
    "        print(\"我的名字叫：%s\"%(self._name))\n",
    "\n",
    "A = people('张三',20,'男')\n",
    "B = people('李一',18,'女')\n",
    "B.SetPeople(A)\n",
    "A.SetPeople(B)\n",
    "\n",
    "#A.AskName()\n",
    "#B.AskName()"
   ]
  },
  {
   "cell_type": "code",
   "execution_count": 39,
   "metadata": {},
   "outputs": [],
   "source": [
    "def Call():\n",
    "    a = '三哥'\n",
    "    print('我是',a)\n",
    "    \n",
    "def RunCall(fx):\n",
    "    print(\"你是谁？\")\n",
    "    fx()\n",
    "\n",
    "def main():\n",
    "    print(\"山下遇童子。\")\n",
    "    RunCall(Call)\n",
    "\n",
    "#main()"
   ]
  },
  {
   "cell_type": "code",
   "execution_count": 40,
   "metadata": {},
   "outputs": [
    {
     "data": {
      "text/plain": [
       "['__class__',\n",
       " '__delattr__',\n",
       " '__dict__',\n",
       " '__dir__',\n",
       " '__doc__',\n",
       " '__eq__',\n",
       " '__format__',\n",
       " '__ge__',\n",
       " '__getattribute__',\n",
       " '__gt__',\n",
       " '__hash__',\n",
       " '__init__',\n",
       " '__init_subclass__',\n",
       " '__le__',\n",
       " '__lt__',\n",
       " '__module__',\n",
       " '__ne__',\n",
       " '__new__',\n",
       " '__reduce__',\n",
       " '__reduce_ex__',\n",
       " '__repr__',\n",
       " '__setattr__',\n",
       " '__sizeof__',\n",
       " '__str__',\n",
       " '__subclasshook__',\n",
       " '__weakref__',\n",
       " 'callback',\n",
       " 'callbacklist',\n",
       " 'dispatch']"
      ]
     },
     "execution_count": 40,
     "metadata": {},
     "output_type": "execute_result"
    }
   ],
   "source": [
    "class CallbackBase:\n",
    "    def __init__(self):\n",
    "        self.__callbackMap = {}\n",
    "        for k in (getattr(self,x) for x in dir(self)):\n",
    "            if hasattr(k,\"bind_to_event\"):\n",
    "                self.__callbackMap.setdefault(k.bind_to_event,[]).append(k)\n",
    "            elif hasattr(k,\"bind_to_event_list\"):\n",
    "                for j in k.bind_to_event_list:\n",
    "                    self.__callbackMap.setdefault(j,[]).append(k)\n",
    "    \n",
    "    @staticmethod\n",
    "    def callback(event):\n",
    "        def f(g,ev = event):\n",
    "            g.bind_to_event = ev\n",
    "            return g\n",
    "        return f\n",
    "    \n",
    "    @staticmethod\n",
    "    def callbacklist(eventlist):\n",
    "        def f(g,evl = eventlist):\n",
    "            g.bind_to_event_list = evl\n",
    "            return g\n",
    "        return f\n",
    "    \n",
    "    def dispatch(self,event):\n",
    "        l = self.__callbackMap[event]\n",
    "        f = lambda *args,**kargs:\\\n",
    "            map(lambda x: x(*args,**kargs),l)\n",
    "        return f\n",
    "dir(CallbackBase)"
   ]
  },
  {
   "cell_type": "code",
   "execution_count": 41,
   "metadata": {},
   "outputs": [],
   "source": [
    "class MyClass(CallbackBase):\n",
    "    EVENT1 = 1\n",
    "    EVENT2 = 2\n",
    "    @CallbackBase.callback(EVENT1)\n",
    "    def handler1(self,param = None):\n",
    "        print(\"handler1 with param:%s\"%str(param))\n",
    "        return None\n",
    "    \n",
    "    @CallbackBase.callbacklist([EVENT1,EVENT2])\n",
    "    def handler2(self,param = None):\n",
    "        print(\"handler2 with param:%s\"%str(param))\n",
    "        return None\n",
    "    \n",
    "    def run(self,event,param = None):\n",
    "        self.dispatch(event)(param)\n",
    "        \n",
    "# if __name__==\"__main__\":\n",
    "a = MyClass()\n",
    "a.run(MyClass.EVENT1,'mandarina')\n",
    "a.run(MyClass.EVENT2,'naranja')"
   ]
  },
  {
   "cell_type": "code",
   "execution_count": 45,
   "metadata": {},
   "outputs": [
    {
     "name": "stdout",
     "output_type": "stream",
     "text": [
      "entering event loop:\n",
      "closing event loop.\n"
     ]
    },
    {
     "ename": "RuntimeError",
     "evalue": "Event loop is closed",
     "output_type": "error",
     "traceback": [
      "\u001b[1;31m---------------------------------------------------------------------------\u001b[0m",
      "\u001b[1;31mRuntimeError\u001b[0m                              Traceback (most recent call last)",
      "\u001b[1;32m<ipython-input-45-a2e88923cf26>\u001b[0m in \u001b[0;36m<module>\u001b[1;34m()\u001b[0m\n\u001b[0;32m     15\u001b[0m \u001b[1;32mtry\u001b[0m\u001b[1;33m:\u001b[0m\u001b[1;33m\u001b[0m\u001b[0m\n\u001b[0;32m     16\u001b[0m     \u001b[0mprint\u001b[0m\u001b[1;33m(\u001b[0m\u001b[1;34m'entering event loop:'\u001b[0m\u001b[1;33m)\u001b[0m\u001b[1;33m\u001b[0m\u001b[0m\n\u001b[1;32m---> 17\u001b[1;33m     \u001b[0mevent_loop\u001b[0m\u001b[1;33m.\u001b[0m\u001b[0mrun_until_complete\u001b[0m\u001b[1;33m(\u001b[0m\u001b[0mmain\u001b[0m\u001b[1;33m(\u001b[0m\u001b[0mevent_loop\u001b[0m\u001b[1;33m)\u001b[0m\u001b[1;33m)\u001b[0m\u001b[1;33m\u001b[0m\u001b[0m\n\u001b[0m\u001b[0;32m     18\u001b[0m \u001b[1;32mfinally\u001b[0m\u001b[1;33m:\u001b[0m\u001b[1;33m\u001b[0m\u001b[0m\n\u001b[0;32m     19\u001b[0m     \u001b[0mprint\u001b[0m\u001b[1;33m(\u001b[0m\u001b[1;34m'closing event loop.'\u001b[0m\u001b[1;33m)\u001b[0m\u001b[1;33m\u001b[0m\u001b[0m\n",
      "\u001b[1;32mC:\\ProgramData\\Anaconda3\\lib\\asyncio\\base_events.py\u001b[0m in \u001b[0;36mrun_until_complete\u001b[1;34m(self, future)\u001b[0m\n\u001b[0;32m    441\u001b[0m         \u001b[0mReturn\u001b[0m \u001b[0mthe\u001b[0m \u001b[0mFuture\u001b[0m\u001b[0;31m'\u001b[0m\u001b[0ms\u001b[0m \u001b[0mresult\u001b[0m\u001b[1;33m,\u001b[0m \u001b[1;32mor\u001b[0m \u001b[1;32mraise\u001b[0m \u001b[0mits\u001b[0m \u001b[0mexception\u001b[0m\u001b[1;33m.\u001b[0m\u001b[1;33m\u001b[0m\u001b[0m\n\u001b[0;32m    442\u001b[0m         \"\"\"\n\u001b[1;32m--> 443\u001b[1;33m         \u001b[0mself\u001b[0m\u001b[1;33m.\u001b[0m\u001b[0m_check_closed\u001b[0m\u001b[1;33m(\u001b[0m\u001b[1;33m)\u001b[0m\u001b[1;33m\u001b[0m\u001b[0m\n\u001b[0m\u001b[0;32m    444\u001b[0m \u001b[1;33m\u001b[0m\u001b[0m\n\u001b[0;32m    445\u001b[0m         \u001b[0mnew_task\u001b[0m \u001b[1;33m=\u001b[0m \u001b[1;32mnot\u001b[0m \u001b[0mfutures\u001b[0m\u001b[1;33m.\u001b[0m\u001b[0misfuture\u001b[0m\u001b[1;33m(\u001b[0m\u001b[0mfuture\u001b[0m\u001b[1;33m)\u001b[0m\u001b[1;33m\u001b[0m\u001b[0m\n",
      "\u001b[1;32mC:\\ProgramData\\Anaconda3\\lib\\asyncio\\base_events.py\u001b[0m in \u001b[0;36m_check_closed\u001b[1;34m(self)\u001b[0m\n\u001b[0;32m    355\u001b[0m     \u001b[1;32mdef\u001b[0m \u001b[0m_check_closed\u001b[0m\u001b[1;33m(\u001b[0m\u001b[0mself\u001b[0m\u001b[1;33m)\u001b[0m\u001b[1;33m:\u001b[0m\u001b[1;33m\u001b[0m\u001b[0m\n\u001b[0;32m    356\u001b[0m         \u001b[1;32mif\u001b[0m \u001b[0mself\u001b[0m\u001b[1;33m.\u001b[0m\u001b[0m_closed\u001b[0m\u001b[1;33m:\u001b[0m\u001b[1;33m\u001b[0m\u001b[0m\n\u001b[1;32m--> 357\u001b[1;33m             \u001b[1;32mraise\u001b[0m \u001b[0mRuntimeError\u001b[0m\u001b[1;33m(\u001b[0m\u001b[1;34m'Event loop is closed'\u001b[0m\u001b[1;33m)\u001b[0m\u001b[1;33m\u001b[0m\u001b[0m\n\u001b[0m\u001b[0;32m    358\u001b[0m \u001b[1;33m\u001b[0m\u001b[0m\n\u001b[0;32m    359\u001b[0m     \u001b[1;32mdef\u001b[0m \u001b[0m_asyncgen_finalizer_hook\u001b[0m\u001b[1;33m(\u001b[0m\u001b[0mself\u001b[0m\u001b[1;33m,\u001b[0m \u001b[0magen\u001b[0m\u001b[1;33m)\u001b[0m\u001b[1;33m:\u001b[0m\u001b[1;33m\u001b[0m\u001b[0m\n",
      "\u001b[1;31mRuntimeError\u001b[0m: Event loop is closed"
     ]
    }
   ],
   "source": [
    "import asyncio\n",
    "\n",
    "def callback(n):\n",
    "    print('callback {} invoked.'.format(n))\n",
    "\n",
    "async def main(loop):\n",
    "    print('registering callbacks')\n",
    "    loop.call_later(2,callback,1)\n",
    "    loop.call_later(5,callback,2)\n",
    "    loop.call_soon(callback,3)\n",
    "    \n",
    "    await asyncio.sleep(0.4)\n",
    "\n",
    "event_loop = asyncio.get_event_loop()\n",
    "try:\n",
    "    print('entering event loop:')\n",
    "    event_loop.run_until_complete(main(event_loop))\n",
    "finally:\n",
    "    print('closing event loop.')\n",
    "    event_loop.close()"
   ]
  },
  {
   "cell_type": "code",
   "execution_count": null,
   "metadata": {
    "collapsed": true
   },
   "outputs": [],
   "source": [
    "\n",
    "\n",
    "\n",
    "\n"
   ]
  }
 ],
 "metadata": {
  "kernelspec": {
   "display_name": "Python 3",
   "language": "python",
   "name": "python3"
  },
  "language_info": {
   "codemirror_mode": {
    "name": "ipython",
    "version": 3
   },
   "file_extension": ".py",
   "mimetype": "text/x-python",
   "name": "python",
   "nbconvert_exporter": "python",
   "pygments_lexer": "ipython3",
   "version": "3.6.2"
  }
 },
 "nbformat": 4,
 "nbformat_minor": 2
}
